{
 "cells": [
  {
   "cell_type": "markdown",
   "id": "9825a7ba-500b-4c2c-9e33-2ca4c77b6f16",
   "metadata": {},
   "source": [
    "# Data Science Tools and Ecosystem"
   ]
  },
  {
   "cell_type": "markdown",
   "id": "5d5242b2-7d8f-49b9-99ce-3247cbe021a0",
   "metadata": {},
   "source": [
    "In this notebook, Data Science Tools and Ecosystem are summarized."
   ]
  },
  {
   "cell_type": "markdown",
   "id": "01f77d97-702f-4421-a1ea-6826b528ef04",
   "metadata": {},
   "source": [
    "**Objectives:**\n",
    "* List some popular languages used in data science\n",
    "* List some commonly used libraries used by data scientists\n",
    "* List some popular open source development environments used by data scientists"
   ]
  },
  {
   "cell_type": "markdown",
   "id": "c51d34ff-b897-4d7b-8678-cfe1dec9ebfa",
   "metadata": {},
   "source": [
    "Some of the popular languages that Data Scientists use are:\n",
    "1. Python\n",
    "2. R\n",
    "3. SQL"
   ]
  },
  {
   "cell_type": "markdown",
   "id": "2b6de136-b5af-437b-a1b0-3f8252e92e1c",
   "metadata": {},
   "source": [
    "Some of the commonly used libraries used by Data Scientists include:\n",
    "1. Pandas\n",
    "2. NumPy\n",
    "3. SciPy"
   ]
  },
  {
   "cell_type": "markdown",
   "id": "e237597c-71d6-4aa1-a3b7-a6c972a7133b",
   "metadata": {},
   "source": [
    "|Data Science Tools|\n",
    "|---|\n",
    "|Jupyter Lab|\n",
    "|Rstudio|\n",
    "|Spyder|"
   ]
  },
  {
   "cell_type": "markdown",
   "id": "44c11cdf-c532-4d87-8bf0-108fa98c1b76",
   "metadata": {},
   "source": [
    "### Below are a few examples of evaluating arithmetic expressions in Python"
   ]
  },
  {
   "cell_type": "code",
   "execution_count": 3,
   "id": "3ec7fc05-cfc6-439f-abc5-52b406c6d040",
   "metadata": {},
   "outputs": [
    {
     "data": {
      "text/plain": [
       "17"
      ]
     },
     "execution_count": 3,
     "metadata": {},
     "output_type": "execute_result"
    }
   ],
   "source": [
    " # This a simple arithmetic expression to mutiply then add integers\n",
    "(3*4)+5"
   ]
  },
  {
   "cell_type": "code",
   "execution_count": 4,
   "id": "7a6da45d-020e-438a-b348-bf7b0a2b6db4",
   "metadata": {},
   "outputs": [
    {
     "data": {
      "text/plain": [
       "3.3333333333333335"
      ]
     },
     "execution_count": 4,
     "metadata": {},
     "output_type": "execute_result"
    }
   ],
   "source": [
    "# This will convert 200 minutes to hours by diving by 60\n",
    "200/60"
   ]
  },
  {
   "cell_type": "markdown",
   "id": "394ba840-8d27-4b96-9769-27782d715487",
   "metadata": {},
   "source": [
    "## Author\n",
    "Sander Salvet"
   ]
  },
  {
   "cell_type": "code",
   "execution_count": null,
   "id": "2d572724-c2af-4a11-92a0-decfc83c623f",
   "metadata": {},
   "outputs": [],
   "source": []
  }
 ],
 "metadata": {
  "kernelspec": {
   "display_name": "Python 3 (ipykernel)",
   "language": "python",
   "name": "python3"
  },
  "language_info": {
   "codemirror_mode": {
    "name": "ipython",
    "version": 3
   },
   "file_extension": ".py",
   "mimetype": "text/x-python",
   "name": "python",
   "nbconvert_exporter": "python",
   "pygments_lexer": "ipython3",
   "version": "3.11.5"
  }
 },
 "nbformat": 4,
 "nbformat_minor": 5
}
